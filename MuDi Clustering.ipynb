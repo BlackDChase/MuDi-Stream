{
 "cells": [
  {
   "cell_type": "markdown",
   "metadata": {},
   "source": [
    "# Multi density clustering for evolving datastream\n",
    "- [Core Mini Cluster](#Core-Mini-Cluster)\n",
    "- [Offline Phase](#Offline-Phase)\n",
    "- [Online Phase](#Online-Phase)"
   ]
  },
  {
   "cell_type": "code",
   "execution_count": 1,
   "metadata": {},
   "outputs": [],
   "source": [
    "__author__='Black D Chase,MR-TLL'\n",
    "__version__='0.0.1'"
   ]
  },
  {
   "cell_type": "code",
   "execution_count": null,
   "metadata": {},
   "outputs": [],
   "source": [
    "import torch"
   ]
  },
  {
   "cell_type": "markdown",
   "metadata": {},
   "source": [
    "# Grid"
   ]
  },
  {
   "cell_type": "markdown",
   "metadata": {},
   "source": [
    "- Grid weight:\n",
    "   $$\n",
    "      W_g(t_c) = \\sum_{x \\subset g} 2^{-\\lambda * (t_c - t_x )}\n",
    "   $$\n",
    "- Grid weight Update:\n",
    "   $$\n",
    "      W_g(t_p,t_c) = 2^{-\\lambda * (t_c - t_x )}* w_g(t_p) + 1\n",
    "   $$\n",
    "- Maximum possible theoretrical Weight of all data points:\n",
    "   $$\n",
    "   w_{max} = \\frac{1}{1-2^{-\\lambda}}\n",
    "   $$\n",
    "- Time Quantum for Grid and CMC updates \n",
    "   $$\n",
    "   t_{pt} = \\frac{log_{2}{\\frac{\\alpha}{\\alpha - N(1-2^{- \\lambda})}}}{\\lambda}\n",
    "   $$\n",
    "- Grid->CMC condition:\n",
    "    $$\n",
    "      n_g > 1 \\text{ and } w_g \\ge \\frac{\\alpha}{N(1-2^{-\\lambda})}\n",
    "    $$\n",
    "    \n",
    "- OWT parameter for GRID and CMC Updates with time  ::\n",
    "    If W_g < OWT --> remove grid from grid list.\n",
    "    $$\n",
    "      OWT(t_c,t_p) = \\frac{\\alpha(1-2^{-\\lambda(t_c - t_p +1)})}{N(1-2^{-\\lambda*t_p})}\n",
    "    $$"
   ]
  },
  {
   "cell_type": "code",
   "execution_count": null,
   "metadata": {},
   "outputs": [],
   "source": [
    "class Grid:\n",
    "    def __init__(self,location):\n",
    "        self.n = 0\n",
    "        self.t = 0\n",
    "        self.w = 0\n",
    "        self.mcd = None\n",
    "        self.c = None\n",
    "        self.status = False # Sporadic\n",
    "        self.location = location\n",
    "        # hast to be a touple\n",
    "        \n",
    "        self.storage = []\n",
    "    \n",
    "    def __hash__(self):\n",
    "        return hash(self.location)\n",
    "    \n",
    "    def __eq__(self,other):\n",
    "        return self.location==other.location\n",
    "    \n",
    "    def updateGS(self,t,w):\n",
    "        self.n+=1\n",
    "        self.t=t\n",
    "        self.w=w\n",
    "        pass\n",
    "    \n",
    "    def calMCD(self):\n",
    "        pass\n",
    "    \n",
    "    def calCenter(self):\n",
    "        pass\n",
    "    \n",
    "    def addPoint(self,point):\n",
    "        self.storage.append(point)\n",
    "    \n",
    "    def getDistance(self,point):\n",
    "        pass\n",
    "    \n",
    "    def flush(self):\n",
    "        self.storage = []\n",
    "        self.n = 0\n",
    "        self.t = 0\n",
    "        self.w = 0\n",
    "        self.mcd = None\n",
    "        self.c = None\n",
    "        self.status = False # Sporadic\n",
    "    pass"
   ]
  },
  {
   "cell_type": "markdown",
   "metadata": {},
   "source": [
    "# Core Mini Cluster"
   ]
  },
  {
   "cell_type": "markdown",
   "metadata": {},
   "source": [
    "- Parameters Of CMC when a grid is promoted to CMC:\n",
    "  $$\n",
    "  W_{cmc} = W_{g}\n",
    "  $$\n",
    "  $$\n",
    "  C_{cmc} = \\frac{\\sum_{1}^{n} f(t_c - t_i)(p_i)}{w_{cmc}}\n",
    "  $$\n",
    "  $$\n",
    "  r_{cmc} = \\frac{\\sum_{1}^{n} f(t_c - t_i)(distance(p_{ij},c_{cmc}))}{w_{cmc}}\n",
    "  $$\n",
    "  \n",
    "- If $$ W_{cmc} <  \\frac{\\alpha}{N(1-2^{-\\lambda})} $$\n",
    "   Then remove cmc from cmc list"
   ]
  },
  {
   "cell_type": "code",
   "execution_count": 2,
   "metadata": {},
   "outputs": [],
   "source": [
    "class CMC(Grid):\n",
    "    pass"
   ]
  },
  {
   "cell_type": "markdown",
   "metadata": {},
   "source": [
    "# Clusterer"
   ]
  },
  {
   "cell_type": "code",
   "execution_count": 3,
   "metadata": {},
   "outputs": [],
   "source": [
    "class Cluster:\n",
    "    def __init__(self):\n",
    "        pass\n",
    "    pass"
   ]
  },
  {
   "cell_type": "markdown",
   "metadata": {},
   "source": [
    "# Online Phase"
   ]
  },
  {
   "cell_type": "code",
   "execution_count": 4,
   "metadata": {},
   "outputs": [],
   "source": [
    "class Online(Cluster):\n",
    "    def __init__(self,dim,alpha,lamda):\n",
    "        super(Offline,self).__init__()\n",
    "        self.datasetDimension=dim\n",
    "        self.cmcList={} ## list which containg all the cmc clusters as objects.\n",
    "        self.gridList={} ## list which containg all the grids as objects.\n",
    "        self.alpha=alpha\n",
    "        self.lamda=lamda\n",
    "        self.N=N ## no. of density grids as given in the paper.\n",
    "        self.ng=0 ## no of grids made till now\n",
    "        pass\n",
    "        \n",
    "        \n",
    "        \n",
    "    def train(self):\n",
    "        while(True):\n",
    "            newPoint=self.readPointFromStream()\n",
    "            if newPoint==None:\n",
    "                break;\n",
    "            cmcs=self.findNearestCmc(newPoint)\n",
    "            if calculateDist(newPoint,cmcs)<=cmcs.mcd:\n",
    "                cmcs.addPoint(newPoint)\n",
    "            else:\n",
    "                ## we now need to check in which grid the newPoint resides, then update the grid list accordingly\n",
    "                \n",
    "        \n",
    "    pass"
   ]
  },
  {
   "cell_type": "markdown",
   "metadata": {},
   "source": [
    "# Offline Phase"
   ]
  },
  {
   "cell_type": "code",
   "execution_count": 6,
   "metadata": {},
   "outputs": [],
   "source": [
    "class Offline(Cluster):\n",
    "    def __init__(self,α,𝜆,gridGaranuality,N):\n",
    "        super(Offline,self).__init__()\n",
    "        \n",
    "        pass\n",
    "    pass"
   ]
  },
  {
   "cell_type": "code",
   "execution_count": null,
   "metadata": {},
   "outputs": [],
   "source": [
    "gridGranuality=25\n",
    "dataset=read()\n",
    "colsRange = []\n",
    "for cols in dataset:\n",
    "    colsRange.append((min(cols),max(cols)))\n"
   ]
  }
 ],
 "metadata": {
  "kernelspec": {
   "display_name": "Python 3",
   "language": "python",
   "name": "python3"
  },
  "language_info": {
   "codemirror_mode": {
    "name": "ipython",
    "version": 3
   },
   "file_extension": ".py",
   "mimetype": "text/x-python",
   "name": "python",
   "nbconvert_exporter": "python",
   "pygments_lexer": "ipython3",
   "version": "3.8.5"
  }
 },
 "nbformat": 4,
 "nbformat_minor": 4
}
