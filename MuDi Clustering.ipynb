{
 "cells": [
  {
   "cell_type": "markdown",
   "metadata": {},
   "source": [
    "# Multi density clustering for evolving datastream\n",
    "- [Grid](#Grid)\n",
    "- [Offline Phase](#Offline-Phase)\n",
    "- [Online Phase](#Online-Phase)\n",
    "- [Model starts working here](#Working)"
   ]
  },
  {
   "cell_type": "code",
   "execution_count": 1,
   "metadata": {},
   "outputs": [],
   "source": [
    "__author__='Black D Chase,MR-TLL'\n",
    "__version__='0.0.1'"
   ]
  },
  {
   "cell_type": "code",
   "execution_count": null,
   "metadata": {},
   "outputs": [],
   "source": [
    "#Imports\n",
    "import torch"
   ]
  },
  {
   "cell_type": "code",
   "execution_count": null,
   "metadata": {},
   "outputs": [],
   "source": [
    "# Globals - hyperparameters\n",
    "alpha = \n",
    "lamda = \n",
    "N = \n",
    "gridGranuality = 25\n",
    "dimension = \n",
    "wCriteria = alpha/(N(1-2**(-lamda)))"
   ]
  },
  {
   "cell_type": "code",
   "execution_count": null,
   "metadata": {},
   "outputs": [],
   "source": [
    "# Dataset input\n",
    "data = read()\n",
    "data"
   ]
  },
  {
   "cell_type": "markdown",
   "metadata": {},
   "source": [
    "# Grid\n",
    " - Grid can be:\n",
    "    - Sporadic Grid\n",
    "    - Normal Grid\n",
    "    - Core Mini Cluster"
   ]
  },
  {
   "cell_type": "code",
   "execution_count": 2,
   "metadata": {},
   "outputs": [],
   "source": [
    "class Grid:\n",
    "    gType=[\"Sporadic\",\"Normal\",\"CMC\"]\n",
    "    global alpha,N,lamda,wCriteria\n",
    "    def __init__(self,location,):\n",
    "        self.n = 0\n",
    "        self.t = 0\n",
    "        self.w = 0\n",
    "        self.mcd = None\n",
    "        self.c = None\n",
    "        self.status = 0\n",
    "        self.location = location\n",
    "        # hash to be a tuple\n",
    "        \n",
    "        self.storage = []\n",
    "    \n",
    "    def __hash__(self):\n",
    "        return hash(self.location)\n",
    "    \n",
    "    def __eq__(self,other):\n",
    "        return self.location==other.location\n",
    "    \n",
    "    def updateGS(self,t,w):\n",
    "        self.n+=1\n",
    "        self.t=t\n",
    "        self.w=w\n",
    "        pass\n",
    "    \n",
    "    def calMCD(self):\n",
    "        ## This is the max distance from mean of all data points on the grid to all the other points on the grid.\n",
    "        self.calCenter()\n",
    "        mcd=0\n",
    "        for points in self.storage:\n",
    "            assert(len(self.c)==len(points))\n",
    "            dist=0.0\n",
    "            for each_dim in points:\n",
    "                dist+=(self.c - each_dim)**2\n",
    "            dist**(0.5)\n",
    "            mcd=max(mcd,dist)\n",
    "\n",
    "        return mcd\n",
    "        pass\n",
    "    \n",
    "    def calCenter(self):\n",
    "        center=[0 for i in self.storage[0]]\n",
    "        length=len(self.storage[0])\n",
    "        for points in self.storage:\n",
    "            for dims in range(length):\n",
    "                center[dims]+=points[dim]\n",
    "        for idx in range(length):\n",
    "            center[idx]=center[idx]/len(self.storage)\n",
    "\n",
    "        return center\n",
    "    \n",
    "    def addPoint(self,point):\n",
    "        self.storage.append(point)\n",
    "    \n",
    "    def getDistance(self,point):\n",
    "        pass\n",
    "    \n",
    "    def __flush(self):\n",
    "        self.storage = []\n",
    "        self.n = 0\n",
    "        self.t = 0\n",
    "        self.w = 0\n",
    "        self.mcd = None\n",
    "        self.c = None\n",
    "        self.status = 0 # Sporadic\n",
    "    \n",
    "    def __makeitGrid(self):\n",
    "        self.status = 1\n",
    "        \n",
    "    def __makeitCMC(self):\n",
    "        self.calCenter()\n",
    "        self.calMCD()\n",
    "        self.status = 2\n",
    "    \n",
    "    def __getOWT(self,t):\n",
    "        OWT = alpha*(1-2**(-lamda(self.t-t+1)))/(N*(1-2**(-lamda*t)))\n",
    "        return OWT\n",
    "    \n",
    "    def updateStatus(self,t):\n",
    "        if self.n>1 and self.w>wCriteria:\n",
    "            self.__makeitCMC()\n",
    "        else if self.w<self.__getOCT(t) or self.n<1:\n",
    "            self.__flush()\n",
    "        else\n",
    "            self.__makeitGrid()\n",
    "        return self.status\n",
    "    \n",
    "    pass"
   ]
  },
  {
   "cell_type": "markdown",
   "metadata": {},
   "source": [
    "## Grid Conditions\n",
    "- Grid weight:\n",
    "   $$\n",
    "      W_g(t_c) = \\sum_{x \\subset g} 2^{-\\lambda * (t_c - t_x )}\n",
    "   $$\n",
    "- Grid weight Update:\n",
    "   $$\n",
    "      W_g(t_p,t_c) = 2^{-\\lambda * (t_c - t_x )}* w_g(t_p) + 1\n",
    "   $$\n",
    "- Maximum possible theoretrical Weight of all data points:\n",
    "   $$\n",
    "   w_{max} = \\frac{1}{1-2^{-\\lambda}}\n",
    "   $$\n",
    "- Time Quantum for Grid and CMC updates \n",
    "   $$\n",
    "   t_{pt} = \\frac{log_{2}{\\big(\\frac{\\alpha}{\\alpha - N(1-2^{- \\lambda})}\\big)}}{\\lambda}\n",
    "   $$\n",
    "- Grid->CMC condition:\n",
    "    $$\n",
    "      n_g > 1 \\text{ and } w_g \\ge \\frac{\\alpha}{N(1-2^{-\\lambda})}\n",
    "    $$\n",
    "\n",
    "- OWT parameter for GRID and CMC Updates with time  ::\n",
    "    If $W_g < OWT$ --> remove grid from grid list.\n",
    "    $$\n",
    "      OWT(t_c,t_p) = \\frac{\\alpha(1-2^{-\\lambda(t_c - t_p +1)})}{N(1-2^{-\\lambda*t_p})}\n",
    "    $$\n",
    "    \n",
    "## CMC Conditions\n",
    "- Parameters Of CMC when a grid is promoted to CMC:\n",
    "  $$\n",
    "  W_{cmc} = W_{g}\n",
    "  $$\n",
    "  $$\n",
    "  C_{cmc} = \\frac{\\sum_{1}^{n} f(t_c - t_i)(p_i)}{w_{cmc}}\n",
    "  $$\n",
    "  $$\n",
    "  r_{cmc} = \\frac{\\sum_{1}^{n} f(t_c - t_i)(distance(p_{ij},c_{cmc}))}{w_{cmc}}\n",
    "  $$\n",
    "\n",
    "- If $$ W_{cmc} <  \\frac{\\alpha}{N(1-2^{-\\lambda})} $$\n",
    "   Then remove cmc from cmc list"
   ]
  },
  {
   "cell_type": "markdown",
   "metadata": {},
   "source": [
    "# Clusterer"
   ]
  },
  {
   "cell_type": "code",
   "execution_count": 3,
   "metadata": {},
   "outputs": [],
   "source": [
    "class Cluster:\n",
    "    global alpha,N,lamda,wCriteria\n",
    "    def __init__(self):\n",
    "        \n",
    "        pass\n",
    "    pass"
   ]
  },
  {
   "cell_type": "markdown",
   "metadata": {},
   "source": [
    "# Online Phase"
   ]
  },
  {
   "cell_type": "code",
   "execution_count": 4,
   "metadata": {},
   "outputs": [],
   "source": [
    "class Online(Cluster):\n",
    "    def __init__(self,dim,alpha,lamda):\n",
    "        super(Offline,self).__init__()\n",
    "        self.datasetDimension=dim\n",
    "        self.gridList={} ## list which containg all the grids as objects.\n",
    "        self.alpha=alpha\n",
    "        self.lamda=lamda\n",
    "        self.N=N ## no. of density grids as given in the paper.\n",
    "        self.ng=0 ## no of grids made till now\n",
    "        pass\n",
    "        \n",
    "        \n",
    "        \n",
    "    def train(self):\n",
    "        while(True):\n",
    "            newPoint=self.readPointFromStream()\n",
    "            if newPoint==None:\n",
    "                break\n",
    "            cmcs=self.findNearestCmc(newPoint)\n",
    "            if calculateDist(newPoint,cmcs)<=cmcs.mcd:\n",
    "                cmcs.addPoint(newPoint)\n",
    "            else:\n",
    "                ## we now need to check in which grid the newPoint resides, then update the grid list accordingly\n",
    "                \n",
    "        \n",
    "    pass"
   ]
  },
  {
   "cell_type": "markdown",
   "metadata": {},
   "source": [
    "# Offline Phase"
   ]
  },
  {
   "cell_type": "code",
   "execution_count": 6,
   "metadata": {},
   "outputs": [],
   "source": [
    "class Offline(Cluster):\n",
    "    def __init__(self,α,𝜆,gridGaranuality,N):\n",
    "        super(Offline,self).__init__()\n",
    "        \n",
    "        pass\n",
    "    pass"
   ]
  },
  {
   "cell_type": "markdown",
   "metadata": {},
   "source": [
    "# Working"
   ]
  },
  {
   "cell_type": "code",
   "execution_count": null,
   "metadata": {},
   "outputs": [],
   "source": [
    "# Initialsing Grids\n",
    "\"\"\"\n",
    "def initializeGridsStructure(data):\n",
    "    global N,gridGranuality,dimension\n",
    "#\"\"\"\n",
    "# I Dont think we need to start \n",
    "#\"\"\"   "
   ]
  }
 ],
 "metadata": {
  "kernelspec": {
   "display_name": "Python 3",
   "language": "python",
   "name": "python3"
  },
  "language_info": {
   "codemirror_mode": {
    "name": "ipython",
    "version": 3
   },
   "file_extension": ".py",
   "mimetype": "text/x-python",
   "name": "python",
   "nbconvert_exporter": "python",
   "pygments_lexer": "ipython3",
   "version": "3.8.3"
  }
 },
 "nbformat": 4,
 "nbformat_minor": 4
}